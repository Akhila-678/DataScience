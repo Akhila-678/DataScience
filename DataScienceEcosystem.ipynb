{
 "cells": [
  {
   "cell_type": "markdown",
   "id": "0a2231a4-b8e1-4027-9a2b-d3d81b4a627f",
   "metadata": {},
   "source": [
    "# H1 : Data Science Tools and Ecosystem"
   ]
  },
  {
   "cell_type": "markdown",
   "id": "ee27240d-fed2-4c02-9509-e60205a19be8",
   "metadata": {},
   "source": [
    "# In this notebook, Data Science Tools and Ecosystem are summarized."
   ]
  },
  {
   "cell_type": "markdown",
   "id": "86d6a77f-0258-48f9-ad78-373009d09135",
   "metadata": {},
   "source": [
    "**Objectives:**\n",
    "+ List popular languages for Data Science\n",
    "+ List commonly used libraries used by Data Scientists\n",
    "+ List Data Science Tools"
   ]
  },
  {
   "cell_type": "markdown",
   "id": "a10c8bf2-e0dc-4358-9cc9-d8782107eb1a",
   "metadata": {},
   "source": [
    "# Some of the popular languages that Data Scientists use are:\n",
    "1. Python\n",
    "2. SQL - Structured Query Language\n",
    "3. R\n",
    "4. Julia\n",
    "5. Scala\n",
    "6. Java"
   ]
  },
  {
   "cell_type": "markdown",
   "id": "cc742ff7-c0e2-45b3-a690-018d4177a46b",
   "metadata": {},
   "source": [
    "# Some of the commonly used libraries used by Data Scientists include:\n",
    "1. Numpy\n",
    "2. Pandas\n",
    "3. SciPy\n",
    "4. Matplotlib\n",
    "5. Seaborn\n",
    "6. Tensorflow\n",
    "7. Keras\n",
    "8. Pytorch\n",
    "9. Scikit Learn"
   ]
  },
  {
   "cell_type": "markdown",
   "id": "105a241a-2a3a-4c47-b4a7-671a38022729",
   "metadata": {},
   "source": [
    "| Data Science Tools |\n",
    "| ------------------ |\n",
    "| Jupyter Notebook |\n",
    "| Jupyter Lab |\n",
    "| Apache Zeppelin |\n",
    "| RStudio |"
   ]
  },
  {
   "cell_type": "markdown",
   "id": "1e2a32d7-e026-435d-995e-b3d6bf3cdfa9",
   "metadata": {},
   "source": [
    "### H3 : Below are a few examples of evaluating arithmetic expressions in Python"
   ]
  },
  {
   "cell_type": "code",
   "execution_count": 2,
   "id": "f6b5a34a-5e6b-461c-b859-86d7fd615f1a",
   "metadata": {},
   "outputs": [
    {
     "name": "stdout",
     "output_type": "stream",
     "text": [
      "3 + 7 = 10\n",
      "10 - 4 =  6\n",
      "5 * 6 = 30\n",
      "20 / 5 =  4.0\n",
      "3 + 5 * 2 =  13\n",
      "(3 + 5) * 2 = 16\n",
      "(2 + 3) * (4 ** 2) / (6 - 1) =  16.0\n"
     ]
    }
   ],
   "source": [
    "# Addition\n",
    "sum_result = 3 + 7\n",
    "print(\"3 + 7 =\",sum_result)\n",
    "# Subtraction\n",
    "difference = 10 - 4\n",
    "print(\"10 - 4 = \",difference)\n",
    "# Multiplication\n",
    "product = 5 * 6\n",
    "print(\"5 * 6 =\", product)\n",
    "# Division\n",
    "quotient = 20 / 5\n",
    "print(\"20 / 5 = \",quotient)\n",
    "# Without parentheses\n",
    "result = 3 + 5 * 2\n",
    "print(\"3 + 5 * 2 = \",result)\n",
    "# With parentheses\n",
    "result = (3 + 5) * 2\n",
    "print(\"(3 + 5) * 2 =\", result)\n",
    "# Combination\n",
    "complex_expression = (2 + 3) * (4 ** 2) / (6 - 1)\n",
    "print(\"(2 + 3) * (4 ** 2) / (6 - 1) = \",complex_expression)\n"
   ]
  },
  {
   "cell_type": "code",
   "execution_count": 8,
   "id": "47253e7f-b370-4210-a242-b038e8f1fb95",
   "metadata": {},
   "outputs": [
    {
     "data": {
      "text/plain": [
       "17"
      ]
     },
     "execution_count": 8,
     "metadata": {},
     "output_type": "execute_result"
    }
   ],
   "source": [
    "#This a simple arithmetic expression to mutiply then add integers\n",
    "(3*4)+5"
   ]
  },
  {
   "cell_type": "code",
   "execution_count": 12,
   "id": "698cae3f-9398-4494-a6c9-5c924d5e8478",
   "metadata": {},
   "outputs": [
    {
     "name": "stdout",
     "output_type": "stream",
     "text": [
      "200  minutes is equal to  3.3333333333333335  hours\n",
      "200  minutes is equal to  3  hours and  20  minutes\n"
     ]
    }
   ],
   "source": [
    "#This will convert 200 minutes to hours by diving by 60\n",
    "min=200\n",
    "hour=min/60\n",
    "print(min,\" minutes is equal to \",hour,\" hours\")\n",
    "\n",
    "hours=min//60\n",
    "rem_min=min%60\n",
    "print(min,\" minutes is equal to \",hours,\" hours and \",rem_min,\" minutes\")"
   ]
  },
  {
   "cell_type": "markdown",
   "id": "fd7f8596-2030-4cf8-9a85-c82305fee30c",
   "metadata": {},
   "source": [
    "## H2: Author :\n",
    "## Akhila"
   ]
  },
  {
   "cell_type": "code",
   "execution_count": null,
   "id": "47df185c-884a-4cb1-8381-7dca5bd40624",
   "metadata": {},
   "outputs": [],
   "source": []
  }
 ],
 "metadata": {
  "kernelspec": {
   "display_name": "Python 3 (ipykernel)",
   "language": "python",
   "name": "python3"
  },
  "language_info": {
   "codemirror_mode": {
    "name": "ipython",
    "version": 3
   },
   "file_extension": ".py",
   "mimetype": "text/x-python",
   "name": "python",
   "nbconvert_exporter": "python",
   "pygments_lexer": "ipython3",
   "version": "3.11.9"
  }
 },
 "nbformat": 4,
 "nbformat_minor": 5
}
